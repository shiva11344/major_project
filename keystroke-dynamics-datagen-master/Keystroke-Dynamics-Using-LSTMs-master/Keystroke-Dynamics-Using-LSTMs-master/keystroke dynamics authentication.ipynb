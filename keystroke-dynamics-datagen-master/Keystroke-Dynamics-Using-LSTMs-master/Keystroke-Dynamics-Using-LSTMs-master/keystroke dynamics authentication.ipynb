{
 "cells": [
  {
   "cell_type": "markdown",
   "metadata": {},
   "source": [
    "# Keystroke Dynamics Using RNNs\n",
    "This notebook goes from the process of cleaning and preparing data to train and test a RNN for the job of Keystroke Dynamics. The Authentication Procedure comprises of using the timing of key strike, key hold, key change and so on to reach a conclusion whether the subject under observation is authentic or not."
   ]
  },
  {
   "cell_type": "markdown",
   "metadata": {},
   "source": [
    "## Data Preparation &amp; Cleaning"
   ]
  },
  {
   "cell_type": "code",
   "execution_count": 1,
   "metadata": {},
   "outputs": [],
   "source": [
    "import pandas as pd\n",
    "import numpy as np\n",
    "import matplotlib.pyplot as plt\n",
    "%matplotlib inline"
   ]
  },
  {
   "cell_type": "code",
   "execution_count": 2,
   "metadata": {},
   "outputs": [
    {
     "data": {
      "text/html": [
       "<div>\n",
       "<style scoped>\n",
       "    .dataframe tbody tr th:only-of-type {\n",
       "        vertical-align: middle;\n",
       "    }\n",
       "\n",
       "    .dataframe tbody tr th {\n",
       "        vertical-align: top;\n",
       "    }\n",
       "\n",
       "    .dataframe thead th {\n",
       "        text-align: right;\n",
       "    }\n",
       "</style>\n",
       "<table border=\"1\" class=\"dataframe\">\n",
       "  <thead>\n",
       "    <tr style=\"text-align: right;\">\n",
       "      <th></th>\n",
       "      <th>subject</th>\n",
       "      <th>sessionIndex</th>\n",
       "      <th>rep</th>\n",
       "      <th>H.period</th>\n",
       "      <th>DD.period.t</th>\n",
       "      <th>UD.period.t</th>\n",
       "      <th>H.t</th>\n",
       "      <th>DD.t.i</th>\n",
       "      <th>UD.t.i</th>\n",
       "      <th>H.i</th>\n",
       "      <th>...</th>\n",
       "      <th>H.a</th>\n",
       "      <th>DD.a.n</th>\n",
       "      <th>UD.a.n</th>\n",
       "      <th>H.n</th>\n",
       "      <th>DD.n.l</th>\n",
       "      <th>UD.n.l</th>\n",
       "      <th>H.l</th>\n",
       "      <th>DD.l.Return</th>\n",
       "      <th>UD.l.Return</th>\n",
       "      <th>H.Return</th>\n",
       "    </tr>\n",
       "  </thead>\n",
       "  <tbody>\n",
       "    <tr>\n",
       "      <th>0</th>\n",
       "      <td>s002</td>\n",
       "      <td>1</td>\n",
       "      <td>1</td>\n",
       "      <td>0.1491</td>\n",
       "      <td>0.3979</td>\n",
       "      <td>0.2488</td>\n",
       "      <td>0.1069</td>\n",
       "      <td>0.1674</td>\n",
       "      <td>0.0605</td>\n",
       "      <td>0.1169</td>\n",
       "      <td>...</td>\n",
       "      <td>0.1349</td>\n",
       "      <td>0.1484</td>\n",
       "      <td>0.0135</td>\n",
       "      <td>0.0932</td>\n",
       "      <td>0.3515</td>\n",
       "      <td>0.2583</td>\n",
       "      <td>0.1338</td>\n",
       "      <td>0.3509</td>\n",
       "      <td>0.2171</td>\n",
       "      <td>0.0742</td>\n",
       "    </tr>\n",
       "    <tr>\n",
       "      <th>1</th>\n",
       "      <td>s002</td>\n",
       "      <td>1</td>\n",
       "      <td>2</td>\n",
       "      <td>0.1111</td>\n",
       "      <td>0.3451</td>\n",
       "      <td>0.2340</td>\n",
       "      <td>0.0694</td>\n",
       "      <td>0.1283</td>\n",
       "      <td>0.0589</td>\n",
       "      <td>0.0908</td>\n",
       "      <td>...</td>\n",
       "      <td>0.1412</td>\n",
       "      <td>0.2558</td>\n",
       "      <td>0.1146</td>\n",
       "      <td>0.1146</td>\n",
       "      <td>0.2642</td>\n",
       "      <td>0.1496</td>\n",
       "      <td>0.0839</td>\n",
       "      <td>0.2756</td>\n",
       "      <td>0.1917</td>\n",
       "      <td>0.0747</td>\n",
       "    </tr>\n",
       "    <tr>\n",
       "      <th>2</th>\n",
       "      <td>s002</td>\n",
       "      <td>1</td>\n",
       "      <td>3</td>\n",
       "      <td>0.1328</td>\n",
       "      <td>0.2072</td>\n",
       "      <td>0.0744</td>\n",
       "      <td>0.0731</td>\n",
       "      <td>0.1291</td>\n",
       "      <td>0.0560</td>\n",
       "      <td>0.0821</td>\n",
       "      <td>...</td>\n",
       "      <td>0.1621</td>\n",
       "      <td>0.2332</td>\n",
       "      <td>0.0711</td>\n",
       "      <td>0.1172</td>\n",
       "      <td>0.2705</td>\n",
       "      <td>0.1533</td>\n",
       "      <td>0.1085</td>\n",
       "      <td>0.2847</td>\n",
       "      <td>0.1762</td>\n",
       "      <td>0.0945</td>\n",
       "    </tr>\n",
       "    <tr>\n",
       "      <th>3</th>\n",
       "      <td>s002</td>\n",
       "      <td>1</td>\n",
       "      <td>4</td>\n",
       "      <td>0.1291</td>\n",
       "      <td>0.2515</td>\n",
       "      <td>0.1224</td>\n",
       "      <td>0.1059</td>\n",
       "      <td>0.2495</td>\n",
       "      <td>0.1436</td>\n",
       "      <td>0.1040</td>\n",
       "      <td>...</td>\n",
       "      <td>0.1457</td>\n",
       "      <td>0.1629</td>\n",
       "      <td>0.0172</td>\n",
       "      <td>0.0866</td>\n",
       "      <td>0.2341</td>\n",
       "      <td>0.1475</td>\n",
       "      <td>0.0845</td>\n",
       "      <td>0.3232</td>\n",
       "      <td>0.2387</td>\n",
       "      <td>0.0813</td>\n",
       "    </tr>\n",
       "    <tr>\n",
       "      <th>4</th>\n",
       "      <td>s002</td>\n",
       "      <td>1</td>\n",
       "      <td>5</td>\n",
       "      <td>0.1249</td>\n",
       "      <td>0.2317</td>\n",
       "      <td>0.1068</td>\n",
       "      <td>0.0895</td>\n",
       "      <td>0.1676</td>\n",
       "      <td>0.0781</td>\n",
       "      <td>0.0903</td>\n",
       "      <td>...</td>\n",
       "      <td>0.1312</td>\n",
       "      <td>0.1582</td>\n",
       "      <td>0.0270</td>\n",
       "      <td>0.0884</td>\n",
       "      <td>0.2517</td>\n",
       "      <td>0.1633</td>\n",
       "      <td>0.0903</td>\n",
       "      <td>0.2517</td>\n",
       "      <td>0.1614</td>\n",
       "      <td>0.0818</td>\n",
       "    </tr>\n",
       "  </tbody>\n",
       "</table>\n",
       "<p>5 rows × 34 columns</p>\n",
       "</div>"
      ],
      "text/plain": [
       "  subject  sessionIndex  rep  H.period  DD.period.t  UD.period.t     H.t  \\\n",
       "0    s002             1    1    0.1491       0.3979       0.2488  0.1069   \n",
       "1    s002             1    2    0.1111       0.3451       0.2340  0.0694   \n",
       "2    s002             1    3    0.1328       0.2072       0.0744  0.0731   \n",
       "3    s002             1    4    0.1291       0.2515       0.1224  0.1059   \n",
       "4    s002             1    5    0.1249       0.2317       0.1068  0.0895   \n",
       "\n",
       "   DD.t.i  UD.t.i     H.i    ...        H.a  DD.a.n  UD.a.n     H.n  DD.n.l  \\\n",
       "0  0.1674  0.0605  0.1169    ...     0.1349  0.1484  0.0135  0.0932  0.3515   \n",
       "1  0.1283  0.0589  0.0908    ...     0.1412  0.2558  0.1146  0.1146  0.2642   \n",
       "2  0.1291  0.0560  0.0821    ...     0.1621  0.2332  0.0711  0.1172  0.2705   \n",
       "3  0.2495  0.1436  0.1040    ...     0.1457  0.1629  0.0172  0.0866  0.2341   \n",
       "4  0.1676  0.0781  0.0903    ...     0.1312  0.1582  0.0270  0.0884  0.2517   \n",
       "\n",
       "   UD.n.l     H.l  DD.l.Return  UD.l.Return  H.Return  \n",
       "0  0.2583  0.1338       0.3509       0.2171    0.0742  \n",
       "1  0.1496  0.0839       0.2756       0.1917    0.0747  \n",
       "2  0.1533  0.1085       0.2847       0.1762    0.0945  \n",
       "3  0.1475  0.0845       0.3232       0.2387    0.0813  \n",
       "4  0.1633  0.0903       0.2517       0.1614    0.0818  \n",
       "\n",
       "[5 rows x 34 columns]"
      ]
     },
     "execution_count": 2,
     "metadata": {},
     "output_type": "execute_result"
    }
   ],
   "source": [
    "df = pd.read_csv('C:\\\\Users\\\\user\\\\Desktop\\\\major_project\\\\keystroke-dynamics-datagen-master\\\\keystroke-dynamics-datagen-master\\\\DSL-StrongPasswordData.csv')\n",
    "df.head()"
   ]
  },
  {
   "cell_type": "code",
   "execution_count": 3,
   "metadata": {},
   "outputs": [
    {
     "data": {
      "text/plain": [
       "array(['s002', 's003', 's004', 's005', 's007', 's008', 's010', 's011',\n",
       "       's012', 's013', 's015', 's016', 's017', 's018', 's019', 's020',\n",
       "       's021', 's022', 's024', 's025', 's026', 's027', 's028', 's029',\n",
       "       's030', 's031', 's032', 's033', 's034', 's035', 's036', 's037',\n",
       "       's038', 's039', 's040', 's041', 's042', 's043', 's044', 's046',\n",
       "       's047', 's048', 's049', 's050', 's051', 's052', 's053', 's054',\n",
       "       's055', 's056', 's057'], dtype=object)"
      ]
     },
     "execution_count": 3,
     "metadata": {},
     "output_type": "execute_result"
    }
   ],
   "source": [
    "subjects = df['subject'].unique()\n",
    "subjects"
   ]
  },
  {
   "cell_type": "code",
   "execution_count": 4,
   "metadata": {
    "scrolled": true
   },
   "outputs": [
    {
     "name": "stdout",
     "output_type": "stream",
     "text": [
      "{0: 's002', 1: 's003', 2: 's004', 3: 's005', 4: 's007', 5: 's008', 6: 's010', 7: 's011', 8: 's012', 9: 's013', 10: 's015', 11: 's016', 12: 's017', 13: 's018', 14: 's019', 15: 's020', 16: 's021', 17: 's022', 18: 's024', 19: 's025', 20: 's026', 21: 's027', 22: 's028', 23: 's029', 24: 's030', 25: 's031', 26: 's032', 27: 's033', 28: 's034', 29: 's035', 30: 's036', 31: 's037', 32: 's038', 33: 's039', 34: 's040', 35: 's041', 36: 's042', 37: 's043', 38: 's044', 39: 's046', 40: 's047', 41: 's048', 42: 's049', 43: 's050', 44: 's051', 45: 's052', 46: 's053', 47: 's054', 48: 's055', 49: 's056', 50: 's057'}\n"
     ]
    }
   ],
   "source": [
    "subjects_to_int = {subject: i  for i, subject in enumerate(subjects)}\n",
    "int_to_subjects = {i: subject for i, subject in enumerate(subjects)}\n",
    "#print(subjects_to_int)\n",
    "print(int_to_subjects)"
   ]
  },
  {
   "cell_type": "code",
   "execution_count": 5,
   "metadata": {},
   "outputs": [],
   "source": [
    "df = df.replace(subjects_to_int)"
   ]
  },
  {
   "cell_type": "code",
   "execution_count": 6,
   "metadata": {},
   "outputs": [
    {
     "data": {
      "text/plain": [
       "(20400, 34)"
      ]
     },
     "execution_count": 6,
     "metadata": {},
     "output_type": "execute_result"
    }
   ],
   "source": [
    "df.shape"
   ]
  },
  {
   "cell_type": "code",
   "execution_count": 7,
   "metadata": {},
   "outputs": [],
   "source": [
    "data = df.as_matrix()"
   ]
  },
  {
   "cell_type": "code",
   "execution_count": 8,
   "metadata": {},
   "outputs": [
    {
     "data": {
      "text/plain": [
       "array([347, 295,  92, 341, 166,  87, 367, 270, 128,  93, 144, 226, 314,\n",
       "       157, 120, 208, 145, 221, 317, 312,  65, 384, 204, 209, 350,  59,\n",
       "        28, 134, 297,  44, 222, 379, 379, 114, 376, 119, 281, 349, 197,\n",
       "        66, 328, 182, 107, 179, 210, 350, 166,  26, 266,  21, 309,  46,\n",
       "        36, 122, 181, 310,  22,  19, 162, 219,   9, 364, 350, 314, 206,\n",
       "       310, 368, 145, 259,   0, 302, 188, 384, 156, 133, 327, 130, 316,\n",
       "        19, 280, 176, 328, 262, 270, 194, 394,  68, 128,  15, 163, 242,\n",
       "       301, 168,  65, 206, 376,   0, 377,  40, 379, 337,   1, 370, 253,\n",
       "       177,  11, 241, 247, 112, 383, 237, 373,  96, 268, 215,  23, 162,\n",
       "       224, 288, 152, 177, 248, 150, 218, 167,  67, 244, 364, 156, 167,\n",
       "        80, 211, 397, 275, 382, 234, 166, 293, 189,  40, 274,  34, 285,\n",
       "        38, 151, 279,  90, 283, 369, 177])"
      ]
     },
     "execution_count": 8,
     "metadata": {},
     "output_type": "execute_result"
    }
   ],
   "source": [
    "temp_d = data[data[:, 0] == 0]\n",
    "temp_d.shape\n",
    "20400/51\n",
    "np.random.choice(400, 150)"
   ]
  },
  {
   "cell_type": "code",
   "execution_count": 9,
   "metadata": {},
   "outputs": [],
   "source": [
    "def generate_positives(data, n_pos_per_subject=150):\n",
    "    n_subjects = np.unique(data[:, 0]).shape[0]\n",
    "    poss = []\n",
    "    for i in range(n_subjects):\n",
    "        temp_d = data[data[:, 0] == i]\n",
    "        first_half = temp_d[np.random.choice(400, n_pos_per_subject), 3:-1]\n",
    "        second_half = temp_d[np.random.choice(400, n_pos_per_subject), 3:-1]\n",
    "        poss.append(np.hstack([first_half, second_half]))\n",
    "    return np.vstack(poss)"
   ]
  },
  {
   "cell_type": "code",
   "execution_count": 10,
   "metadata": {},
   "outputs": [
    {
     "data": {
      "text/plain": [
       "(7650, 60)"
      ]
     },
     "execution_count": 10,
     "metadata": {},
     "output_type": "execute_result"
    }
   ],
   "source": [
    "poss = generate_positives(data)\n",
    "poss.shape"
   ]
  },
  {
   "cell_type": "code",
   "execution_count": 11,
   "metadata": {},
   "outputs": [],
   "source": [
    "def generate_negatives(data, n_neg_per_subject=150):\n",
    "    n_subjects = np.unique(data[:, 0]).shape[0]\n",
    "    negs = []\n",
    "    for i in range(n_subjects):\n",
    "        temp_d = data[data[:, 0] == i]\n",
    "        temp_not_d = data[data[:, 0] != i]\n",
    "        first_half = temp_d[np.random.choice(400, n_neg_per_subject), 3:-1]\n",
    "        second_half = temp_not_d[np.random.choice(400, n_neg_per_subject), 3:-1]\n",
    "        negs.append(np.hstack([first_half, second_half]))\n",
    "    return np.vstack(negs)"
   ]
  },
  {
   "cell_type": "code",
   "execution_count": 12,
   "metadata": {},
   "outputs": [
    {
     "data": {
      "text/plain": [
       "(7650, 60)"
      ]
     },
     "execution_count": 12,
     "metadata": {},
     "output_type": "execute_result"
    }
   ],
   "source": [
    "negs = generate_negatives(data)\n",
    "negs.shape"
   ]
  },
  {
   "cell_type": "code",
   "execution_count": 13,
   "metadata": {},
   "outputs": [
    {
     "data": {
      "text/plain": [
       "(15300, 1)"
      ]
     },
     "execution_count": 13,
     "metadata": {},
     "output_type": "execute_result"
    }
   ],
   "source": [
    "labels = np.zeros(poss.shape[0] + negs.shape[0])\n",
    "labels[:poss.shape[0]] = 1\n",
    "labels = np.expand_dims(labels, axis=1)\n",
    "labels.shape"
   ]
  },
  {
   "cell_type": "code",
   "execution_count": 15,
   "metadata": {},
   "outputs": [
    {
     "data": {
      "text/plain": [
       "(15300, 61)"
      ]
     },
     "execution_count": 15,
     "metadata": {},
     "output_type": "execute_result"
    }
   ],
   "source": [
    "all_data = np.hstack([np.vstack([poss, negs]), labels])\n",
    "all_data.shape"
   ]
  },
  {
   "cell_type": "code",
   "execution_count": 16,
   "metadata": {},
   "outputs": [],
   "source": [
    "np.random.shuffle(all_data)"
   ]
  },
  {
   "cell_type": "code",
   "execution_count": 17,
   "metadata": {},
   "outputs": [],
   "source": [
    "all_data_t = np.zeros((all_data.shape[0], 15, 4))\n",
    "ctr = 0\n",
    "for i, j in zip(range(0, 30, 2), range(30, 60, 2)):\n",
    "    all_data_t[:, ctr, :] = np.hstack([all_data[:, i:i+2], all_data[:, j:j+2]])\n",
    "    ctr += 1"
   ]
  },
  {
   "cell_type": "code",
   "execution_count": 27,
   "metadata": {},
   "outputs": [
    {
     "data": {
      "text/plain": [
       "(15300, 15, 4)"
      ]
     },
     "execution_count": 27,
     "metadata": {},
     "output_type": "execute_result"
    }
   ],
   "source": [
    "all_data_t.shape"
   ]
  },
  {
   "cell_type": "code",
   "execution_count": 28,
   "metadata": {},
   "outputs": [
    {
     "name": "stdout",
     "output_type": "stream",
     "text": [
      "(15300, 15, 4)\n",
      "(15300,)\n",
      "[0. 0. 1. 1. 0. 1. 0. 0. 0. 1.]\n"
     ]
    }
   ],
   "source": [
    "X, y = all_data_t, all_data[:, -1]\n",
    "print(X.shape)\n",
    "print(y.shape)\n",
    "print(y[10:20])"
   ]
  },
  {
   "cell_type": "markdown",
   "metadata": {},
   "source": [
    "## Training Phase\n",
    "This Phase defines parameters of the model, the model itself along with its training to produce a simple RNN that can predict whether a person is the genuine holder of account or not."
   ]
  },
  {
   "cell_type": "markdown",
   "metadata": {},
   "source": [
    "### Some Params and HyperParams"
   ]
  },
  {
   "cell_type": "code",
   "execution_count": 17,
   "metadata": {},
   "outputs": [
    {
     "name": "stderr",
     "output_type": "stream",
     "text": [
      "Using TensorFlow backend.\n"
     ]
    }
   ],
   "source": [
    "from keras.layers import Dense, Activation, Dropout, Input, LSTM, Reshape, Lambda, RepeatVector, Concatenate\n",
    "from keras.initializers import glorot_uniform\n",
    "from keras.utils import to_categorical\n",
    "from keras.models import Model\n",
    "from keras.optimizers import Adam"
   ]
  },
  {
   "cell_type": "code",
   "execution_count": 18,
   "metadata": {},
   "outputs": [],
   "source": [
    "VALIDATION_SPLIT = 0.1\n",
    "\n",
    "INPUT_SHAPE = [None, 2]\n",
    "\n",
    "BATCH_SIZE = 32\n",
    "\n",
    "EPOCHS = 20"
   ]
  },
  {
   "cell_type": "code",
   "execution_count": 19,
   "metadata": {},
   "outputs": [],
   "source": [
    "def train_dev_split(x, y, val_split=0.1):\n",
    "    m = x.shape[0]\n",
    "    val_size = int(0.1 * m)\n",
    "    return x[:-val_/size], y[:, :-val_size, :], x[-val_size:], y[:, -val_size:, :]"
   ]
  },
  {
   "cell_type": "code",
   "execution_count": 20,
   "metadata": {},
   "outputs": [
    {
     "name": "stdout",
     "output_type": "stream",
     "text": [
      "(15300, 2)\n",
      "[0. 1.]\n",
      "(15, 15300, 2)\n"
     ]
    }
   ],
   "source": [
    "y = to_categorical(y)\n",
    "print(y.shape)\n",
    "print(y[0])\n",
    "y_ = np.zeros((15, y.shape[0], y.shape[1]))\n",
    "for i in range(15):\n",
    "    y_[i, :, :] = y\n",
    "print(y_.shape)"
   ]
  },
  {
   "cell_type": "code",
   "execution_count": 21,
   "metadata": {},
   "outputs": [
    {
     "data": {
      "text/plain": [
       "(array([0., 1.]), array([0., 1.], dtype=float32))"
      ]
     },
     "execution_count": 21,
     "metadata": {},
     "output_type": "execute_result"
    }
   ],
   "source": [
    "y_[0, 0, :], y[0]"
   ]
  },
  {
   "cell_type": "code",
   "execution_count": 22,
   "metadata": {},
   "outputs": [
    {
     "data": {
      "text/plain": [
       "((13770, 15, 4), (15, 13770, 2), (1530, 15, 4), (15, 1530, 2))"
      ]
     },
     "execution_count": 22,
     "metadata": {},
     "output_type": "execute_result"
    }
   ],
   "source": [
    "x_train, y_train, x_test, y_test = train_dev_split(X, y_)\n",
    "x_train.shape, y_train.shape, x_test.shape, y_test.shape"
   ]
  },
  {
   "cell_type": "code",
   "execution_count": 23,
   "metadata": {},
   "outputs": [],
   "source": [
    "n_a = 10\n",
    "n_out = 2"
   ]
  },
  {
   "cell_type": "code",
   "execution_count": 24,
   "metadata": {},
   "outputs": [],
   "source": [
    "reshapor = Reshape((1, 4))\n",
    "LSTM_cell = LSTM(n_a, return_state = True)\n",
    "densor = Dense(n_out, activation='softmax')"
   ]
  },
  {
   "cell_type": "code",
   "execution_count": 25,
   "metadata": {},
   "outputs": [],
   "source": [
    "def keystroke_model(Tx, n_in, n_a, n_out):\n",
    "    X = Input(shape=(Tx, n_in))\n",
    "    \n",
    "    a0 = Input(shape=(n_a,), name='a0')\n",
    "    c0 = Input(shape=(n_a,), name='c0')\n",
    "    a = a0\n",
    "    c = c0\n",
    "    \n",
    "    outputs = []\n",
    "\n",
    "    for t in range(Tx):\n",
    "         \n",
    "        x = Lambda(lambda x: X[:, t, :])(X)\n",
    "        x = reshapor(x)\n",
    "        a, _, c = LSTM_cell(x, initial_state=[a, c])\n",
    "        print(a.shape)\n",
    "        out = densor(a)\n",
    "        #print(out.shape)\n",
    "        outputs.append(out)\n",
    "\n",
    "    model = Model(inputs=[X, a0, c0], outputs=outputs)\n",
    "    \n",
    "    return model"
   ]
  },
  {
   "cell_type": "code",
   "execution_count": 26,
   "metadata": {},
   "outputs": [
    {
     "name": "stdout",
     "output_type": "stream",
     "text": [
      "(None, 10)\n",
      "(None, 10)\n",
      "(None, 10)\n",
      "(None, 10)\n",
      "(None, 10)\n",
      "(None, 10)\n",
      "(None, 10)\n",
      "(None, 10)\n",
      "(None, 10)\n",
      "(None, 10)\n",
      "(None, 10)\n",
      "(None, 10)\n",
      "(None, 10)\n",
      "(None, 10)\n",
      "(None, 10)\n"
     ]
    }
   ],
   "source": [
    "model = keystroke_model(15, 4, n_a, n_out)"
   ]
  },
  {
   "cell_type": "code",
   "execution_count": 27,
   "metadata": {},
   "outputs": [],
   "source": [
    "opt = Adam(lr=0.01, beta_1=0.9, beta_2=0.999, decay=0.01)\n",
    "model.compile(optimizer=opt, loss='categorical_crossentropy', metrics=['accuracy'])"
   ]
  },
  {
   "cell_type": "code",
   "execution_count": 179,
   "metadata": {},
   "outputs": [
    {
     "name": "stdout",
     "output_type": "stream",
     "text": [
      "Model: \"model_8\"\n",
      "__________________________________________________________________________________________________\n",
      "Layer (type)                    Output Shape         Param #     Connected to                     \n",
      "==================================================================================================\n",
      "input_12 (InputLayer)           (None, 15, 4)        0                                            \n",
      "__________________________________________________________________________________________________\n",
      "lambda_118 (Lambda)             (None, 4)            0           input_12[0][0]                   \n",
      "__________________________________________________________________________________________________\n",
      "reshape_4 (Reshape)             (None, 1, 4)         0           lambda_118[0][0]                 \n",
      "                                                                 lambda_119[0][0]                 \n",
      "                                                                 lambda_120[0][0]                 \n",
      "                                                                 lambda_121[0][0]                 \n",
      "                                                                 lambda_122[0][0]                 \n",
      "                                                                 lambda_123[0][0]                 \n",
      "                                                                 lambda_124[0][0]                 \n",
      "                                                                 lambda_125[0][0]                 \n",
      "                                                                 lambda_126[0][0]                 \n",
      "                                                                 lambda_127[0][0]                 \n",
      "                                                                 lambda_128[0][0]                 \n",
      "                                                                 lambda_129[0][0]                 \n",
      "                                                                 lambda_130[0][0]                 \n",
      "                                                                 lambda_131[0][0]                 \n",
      "                                                                 lambda_132[0][0]                 \n",
      "__________________________________________________________________________________________________\n",
      "a0 (InputLayer)                 (None, 10)           0                                            \n",
      "__________________________________________________________________________________________________\n",
      "c0 (InputLayer)                 (None, 10)           0                                            \n",
      "__________________________________________________________________________________________________\n",
      "lambda_119 (Lambda)             (None, 4)            0           input_12[0][0]                   \n",
      "__________________________________________________________________________________________________\n",
      "lstm_4 (LSTM)                   [(None, 10), (None,  600         reshape_4[0][0]                  \n",
      "                                                                 a0[0][0]                         \n",
      "                                                                 c0[0][0]                         \n",
      "                                                                 reshape_4[1][0]                  \n",
      "                                                                 lstm_4[0][0]                     \n",
      "                                                                 lstm_4[0][2]                     \n",
      "                                                                 reshape_4[2][0]                  \n",
      "                                                                 lstm_4[1][0]                     \n",
      "                                                                 lstm_4[1][2]                     \n",
      "                                                                 reshape_4[3][0]                  \n",
      "                                                                 lstm_4[2][0]                     \n",
      "                                                                 lstm_4[2][2]                     \n",
      "                                                                 reshape_4[4][0]                  \n",
      "                                                                 lstm_4[3][0]                     \n",
      "                                                                 lstm_4[3][2]                     \n",
      "                                                                 reshape_4[5][0]                  \n",
      "                                                                 lstm_4[4][0]                     \n",
      "                                                                 lstm_4[4][2]                     \n",
      "                                                                 reshape_4[6][0]                  \n",
      "                                                                 lstm_4[5][0]                     \n",
      "                                                                 lstm_4[5][2]                     \n",
      "                                                                 reshape_4[7][0]                  \n",
      "                                                                 lstm_4[6][0]                     \n",
      "                                                                 lstm_4[6][2]                     \n",
      "                                                                 reshape_4[8][0]                  \n",
      "                                                                 lstm_4[7][0]                     \n",
      "                                                                 lstm_4[7][2]                     \n",
      "                                                                 reshape_4[9][0]                  \n",
      "                                                                 lstm_4[8][0]                     \n",
      "                                                                 lstm_4[8][2]                     \n",
      "                                                                 reshape_4[10][0]                 \n",
      "                                                                 lstm_4[9][0]                     \n",
      "                                                                 lstm_4[9][2]                     \n",
      "                                                                 reshape_4[11][0]                 \n",
      "                                                                 lstm_4[10][0]                    \n",
      "                                                                 lstm_4[10][2]                    \n",
      "                                                                 reshape_4[12][0]                 \n",
      "                                                                 lstm_4[11][0]                    \n",
      "                                                                 lstm_4[11][2]                    \n",
      "                                                                 reshape_4[13][0]                 \n",
      "                                                                 lstm_4[12][0]                    \n",
      "                                                                 lstm_4[12][2]                    \n",
      "                                                                 reshape_4[14][0]                 \n",
      "                                                                 lstm_4[13][0]                    \n",
      "                                                                 lstm_4[13][2]                    \n",
      "__________________________________________________________________________________________________\n",
      "lambda_120 (Lambda)             (None, 4)            0           input_12[0][0]                   \n",
      "__________________________________________________________________________________________________\n",
      "lambda_121 (Lambda)             (None, 4)            0           input_12[0][0]                   \n",
      "__________________________________________________________________________________________________\n",
      "lambda_122 (Lambda)             (None, 4)            0           input_12[0][0]                   \n",
      "__________________________________________________________________________________________________\n",
      "lambda_123 (Lambda)             (None, 4)            0           input_12[0][0]                   \n",
      "__________________________________________________________________________________________________\n",
      "lambda_124 (Lambda)             (None, 4)            0           input_12[0][0]                   \n",
      "__________________________________________________________________________________________________\n",
      "lambda_125 (Lambda)             (None, 4)            0           input_12[0][0]                   \n",
      "__________________________________________________________________________________________________\n",
      "lambda_126 (Lambda)             (None, 4)            0           input_12[0][0]                   \n",
      "__________________________________________________________________________________________________\n",
      "lambda_127 (Lambda)             (None, 4)            0           input_12[0][0]                   \n",
      "__________________________________________________________________________________________________\n",
      "lambda_128 (Lambda)             (None, 4)            0           input_12[0][0]                   \n",
      "__________________________________________________________________________________________________\n",
      "lambda_129 (Lambda)             (None, 4)            0           input_12[0][0]                   \n",
      "__________________________________________________________________________________________________\n",
      "lambda_130 (Lambda)             (None, 4)            0           input_12[0][0]                   \n",
      "__________________________________________________________________________________________________\n",
      "lambda_131 (Lambda)             (None, 4)            0           input_12[0][0]                   \n",
      "__________________________________________________________________________________________________\n",
      "lambda_132 (Lambda)             (None, 4)            0           input_12[0][0]                   \n",
      "__________________________________________________________________________________________________\n",
      "dense_4 (Dense)                 (None, 2)            22          lstm_4[0][0]                     \n",
      "                                                                 lstm_4[1][0]                     \n",
      "                                                                 lstm_4[2][0]                     \n",
      "                                                                 lstm_4[3][0]                     \n",
      "                                                                 lstm_4[4][0]                     \n",
      "                                                                 lstm_4[5][0]                     \n",
      "                                                                 lstm_4[6][0]                     \n",
      "                                                                 lstm_4[7][0]                     \n",
      "                                                                 lstm_4[8][0]                     \n",
      "                                                                 lstm_4[9][0]                     \n",
      "                                                                 lstm_4[10][0]                    \n",
      "                                                                 lstm_4[11][0]                    \n",
      "                                                                 lstm_4[12][0]                    \n",
      "                                                                 lstm_4[13][0]                    \n",
      "                                                                 lstm_4[14][0]                    \n",
      "==================================================================================================\n",
      "Total params: 622\n",
      "Trainable params: 622\n",
      "Non-trainable params: 0\n",
      "__________________________________________________________________________________________________\n"
     ]
    }
   ],
   "source": [
    "model.summary()"
   ]
  },
  {
   "cell_type": "code",
   "execution_count": 180,
   "metadata": {},
   "outputs": [],
   "source": [
    "m = x_train.shape[0]\n",
    "a0 = np.zeros((m, n_a))\n",
    "c0 = np.zeros((m, n_a))"
   ]
  },
  {
   "cell_type": "code",
   "execution_count": 181,
   "metadata": {},
   "outputs": [
    {
     "name": "stdout",
     "output_type": "stream",
     "text": [
      "Epoch 1/10\n",
      "13770/13770 [==============================] - 25s 2ms/step - loss: 10.1654 - dense_4_loss: 0.6753 - dense_4_accuracy: 0.5184 - dense_4_accuracy_1: 0.5645 - dense_4_accuracy_2: 0.5797 - dense_4_accuracy_3: 0.5779 - dense_4_accuracy_4: 0.5713 - dense_4_accuracy_5: 0.5325 - dense_4_accuracy_6: 0.5325 - dense_4_accuracy_7: 0.5334 - dense_4_accuracy_8: 0.5481 - dense_4_accuracy_9: 0.5481 - dense_4_accuracy_10: 0.5529 - dense_4_accuracy_11: 0.5595 - dense_4_accuracy_12: 0.5587 - dense_4_accuracy_13: 0.5534 - dense_4_accuracy_14: 0.5651\n",
      "Epoch 2/10\n",
      "13770/13770 [==============================] - 5s 344us/step - loss: 9.4154 - dense_4_loss: 0.5997 - dense_4_accuracy: 0.5019 - dense_4_accuracy_1: 0.5320 - dense_4_accuracy_2: 0.5943 - dense_4_accuracy_3: 0.6303 - dense_4_accuracy_4: 0.6112 - dense_4_accuracy_5: 0.6644 - dense_4_accuracy_6: 0.6709 - dense_4_accuracy_7: 0.6824 - dense_4_accuracy_8: 0.6829 - dense_4_accuracy_9: 0.6901 - dense_4_accuracy_10: 0.6954 - dense_4_accuracy_11: 0.6909 - dense_4_accuracy_12: 0.6952 - dense_4_accuracy_13: 0.6962 - dense_4_accuracy_14: 0.6957\n",
      "Epoch 3/10\n",
      "13770/13770 [==============================] - 5s 346us/step - loss: 8.8616 - dense_4_loss: 0.5381 - dense_4_accuracy: 0.5029 - dense_4_accuracy_1: 0.5551 - dense_4_accuracy_2: 0.6297 - dense_4_accuracy_3: 0.6492 - dense_4_accuracy_4: 0.5951 - dense_4_accuracy_5: 0.7000 - dense_4_accuracy_6: 0.7150 - dense_4_accuracy_7: 0.7357 - dense_4_accuracy_8: 0.7418 - dense_4_accuracy_9: 0.7556 - dense_4_accuracy_10: 0.7588 - dense_4_accuracy_11: 0.7564 - dense_4_accuracy_12: 0.7609 - dense_4_accuracy_13: 0.7625 - dense_4_accuracy_14: 0.7614\n",
      "Epoch 4/10\n",
      "13770/13770 [==============================] - 5s 352us/step - loss: 8.6812 - dense_4_loss: 0.5198 - dense_4_accuracy: 0.5015 - dense_4_accuracy_1: 0.5492 - dense_4_accuracy_2: 0.6404 - dense_4_accuracy_3: 0.6691 - dense_4_accuracy_4: 0.5558 - dense_4_accuracy_5: 0.7003 - dense_4_accuracy_6: 0.7272 - dense_4_accuracy_7: 0.7497 - dense_4_accuracy_8: 0.7537 - dense_4_accuracy_9: 0.7660 - dense_4_accuracy_10: 0.7702 - dense_4_accuracy_11: 0.7703 - dense_4_accuracy_12: 0.7741 - dense_4_accuracy_13: 0.7744 - dense_4_accuracy_14: 0.7730\n",
      "Epoch 5/10\n",
      "13770/13770 [==============================] - 5s 343us/step - loss: 8.5857 - dense_4_loss: 0.5118 - dense_4_accuracy: 0.5012 - dense_4_accuracy_1: 0.5638 - dense_4_accuracy_2: 0.6362 - dense_4_accuracy_3: 0.6664 - dense_4_accuracy_4: 0.5519 - dense_4_accuracy_5: 0.7076 - dense_4_accuracy_6: 0.7399 - dense_4_accuracy_7: 0.7639 - dense_4_accuracy_8: 0.7622 - dense_4_accuracy_9: 0.7757 - dense_4_accuracy_10: 0.7795 - dense_4_accuracy_11: 0.7765 - dense_4_accuracy_12: 0.7816 - dense_4_accuracy_13: 0.7817 - dense_4_accuracy_14: 0.7801\n",
      "Epoch 6/10\n",
      "13770/13770 [==============================] - 5s 341us/step - loss: 8.5386 - dense_4_loss: 0.5119 - dense_4_accuracy: 0.5013 - dense_4_accuracy_1: 0.5808 - dense_4_accuracy_2: 0.6379 - dense_4_accuracy_3: 0.6562 - dense_4_accuracy_4: 0.5641 - dense_4_accuracy_5: 0.7129 - dense_4_accuracy_6: 0.7472 - dense_4_accuracy_7: 0.7667 - dense_4_accuracy_8: 0.7658 - dense_4_accuracy_9: 0.7763 - dense_4_accuracy_10: 0.7821 - dense_4_accuracy_11: 0.7800 - dense_4_accuracy_12: 0.7825 - dense_4_accuracy_13: 0.7841 - dense_4_accuracy_14: 0.7825\n",
      "Epoch 7/10\n",
      "13770/13770 [==============================] - 5s 341us/step - loss: 8.5096 - dense_4_loss: 0.5067 - dense_4_accuracy: 0.5024 - dense_4_accuracy_1: 0.5865 - dense_4_accuracy_2: 0.6393 - dense_4_accuracy_3: 0.6580 - dense_4_accuracy_4: 0.5563 - dense_4_accuracy_5: 0.7170 - dense_4_accuracy_6: 0.7504 - dense_4_accuracy_7: 0.7712 - dense_4_accuracy_8: 0.7690 - dense_4_accuracy_9: 0.7797 - dense_4_accuracy_10: 0.7838 - dense_4_accuracy_11: 0.7846 - dense_4_accuracy_12: 0.7858 - dense_4_accuracy_13: 0.7869 - dense_4_accuracy_14: 0.7850\n",
      "Epoch 8/10\n",
      "13770/13770 [==============================] - 5s 347us/step - loss: 8.5225 - dense_4_loss: 0.5207 - dense_4_accuracy: 0.5112 - dense_4_accuracy_1: 0.6150 - dense_4_accuracy_2: 0.6435 - dense_4_accuracy_3: 0.6523 - dense_4_accuracy_4: 0.6204 - dense_4_accuracy_5: 0.7237 - dense_4_accuracy_6: 0.7556 - dense_4_accuracy_7: 0.7769 - dense_4_accuracy_8: 0.7722 - dense_4_accuracy_9: 0.7797 - dense_4_accuracy_10: 0.7829 - dense_4_accuracy_11: 0.7806 - dense_4_accuracy_12: 0.7827 - dense_4_accuracy_13: 0.7821 - dense_4_accuracy_14: 0.7815\n",
      "Epoch 9/10\n",
      "13770/13770 [==============================] - 5s 333us/step - loss: 8.4659 - dense_4_loss: 0.5056 - dense_4_accuracy: 0.5121 - dense_4_accuracy_1: 0.6204 - dense_4_accuracy_2: 0.6484 - dense_4_accuracy_3: 0.6546 - dense_4_accuracy_4: 0.5790 - dense_4_accuracy_5: 0.7170 - dense_4_accuracy_6: 0.7511 - dense_4_accuracy_7: 0.7719 - dense_4_accuracy_8: 0.7704 - dense_4_accuracy_9: 0.7803 - dense_4_accuracy_10: 0.7853 - dense_4_accuracy_11: 0.7840 - dense_4_accuracy_12: 0.7860 - dense_4_accuracy_13: 0.7867 - dense_4_accuracy_14: 0.7859\n",
      "Epoch 10/10\n",
      "13770/13770 [==============================] - 5s 328us/step - loss: 8.4428 - dense_4_loss: 0.5043 - dense_4_accuracy: 0.5126 - dense_4_accuracy_1: 0.6182 - dense_4_accuracy_2: 0.6465 - dense_4_accuracy_3: 0.6540 - dense_4_accuracy_4: 0.5681 - dense_4_accuracy_5: 0.7217 - dense_4_accuracy_6: 0.7550 - dense_4_accuracy_7: 0.7744 - dense_4_accuracy_8: 0.7736 - dense_4_accuracy_9: 0.7826 - dense_4_accuracy_10: 0.7862 - dense_4_accuracy_11: 0.7845 - dense_4_accuracy_12: 0.7863 - dense_4_accuracy_13: 0.7875 - dense_4_accuracy_14: 0.7863\n"
     ]
    },
    {
     "data": {
      "text/plain": [
       "<keras.callbacks.callbacks.History at 0x1fe6340a668>"
      ]
     },
     "execution_count": 181,
     "metadata": {},
     "output_type": "execute_result"
    }
   ],
   "source": [
    "model.fit([x_train, a0, c0], list(y_train), epochs=10)"
   ]
  },
  {
   "cell_type": "code",
   "execution_count": 37,
   "metadata": {},
   "outputs": [],
   "source": [
    "m_t = x_test.shape[0]\n",
    "a0_t = np.zeros((m_t, n_a))\n",
    "c0_t = np.zeros((m_t, n_a))"
   ]
  },
  {
   "cell_type": "code",
   "execution_count": 38,
   "metadata": {},
   "outputs": [
    {
     "name": "stdout",
     "output_type": "stream",
     "text": [
      "1530/1530 [==============================] - 2s 1ms/step\n"
     ]
    },
    {
     "data": {
      "text/plain": [
       "[8.110221078037437,\n",
       " 0.6866126656532288,\n",
       " 0.6632472276687622,\n",
       " 0.6393974423408508,\n",
       " 0.6197602152824402,\n",
       " 0.6097667217254639,\n",
       " 0.5514662265777588,\n",
       " 0.5212035775184631,\n",
       " 0.4958099126815796,\n",
       " 0.4845815598964691,\n",
       " 0.47372910380363464,\n",
       " 0.46763792634010315,\n",
       " 0.46981263160705566,\n",
       " 0.4694244861602783,\n",
       " 0.4710231125354767,\n",
       " 0.483203649520874,\n",
       " 0.5745097994804382,\n",
       " 0.6503267884254456,\n",
       " 0.6464052200317383,\n",
       " 0.6339869499206543,\n",
       " 0.6418300867080688,\n",
       " 0.7627450823783875,\n",
       " 0.7732025980949402,\n",
       " 0.7973856329917908,\n",
       " 0.7921568751335144,\n",
       " 0.7960784435272217,\n",
       " 0.7967320084571838,\n",
       " 0.7980391979217529,\n",
       " 0.800000011920929,\n",
       " 0.801307201385498,\n",
       " 0.7941176295280457]"
      ]
     },
     "execution_count": 38,
     "metadata": {},
     "output_type": "execute_result"
    }
   ],
   "source": [
    "model.evaluate([x_test, a0_t, c0_t], list(y_test))"
   ]
  },
  {
   "cell_type": "code",
   "execution_count": 40,
   "metadata": {},
   "outputs": [],
   "source": [
    "model.save_weights('model.h5')"
   ]
  },
  {
   "cell_type": "code",
   "execution_count": null,
   "metadata": {},
   "outputs": [],
   "source": []
  }
 ],
 "metadata": {
  "kernelspec": {
   "display_name": "Python 3",
   "language": "python",
   "name": "python3"
  },
  "language_info": {
   "codemirror_mode": {
    "name": "ipython",
    "version": 3
   },
   "file_extension": ".py",
   "mimetype": "text/x-python",
   "name": "python",
   "nbconvert_exporter": "python",
   "pygments_lexer": "ipython3",
   "version": "3.6.4"
  }
 },
 "nbformat": 4,
 "nbformat_minor": 2
}
