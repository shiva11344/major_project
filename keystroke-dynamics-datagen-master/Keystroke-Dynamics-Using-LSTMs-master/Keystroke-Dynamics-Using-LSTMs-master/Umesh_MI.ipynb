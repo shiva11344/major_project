{
 "cells": [
  {
   "cell_type": "code",
   "execution_count": 160,
   "metadata": {},
   "outputs": [],
   "source": [
    "import pandas as pd\n",
    "import numpy as np\n",
    "import matplotlib.pyplot as plt\n",
    "%matplotlib inline"
   ]
  },
  {
   "cell_type": "code",
   "execution_count": 161,
   "metadata": {},
   "outputs": [],
   "source": [
    "df1 = pd.read_csv('C://Users//user//Desktop//major_project//keystroke-dynamics-datagen-master//Keystroke-Dynamics-Using-LSTMs-master//Keystroke-Dynamics-Using-LSTMs-master/shiva_appended.csv')\n",
    "df2= pd.read_csv('C://Users//user//Desktop//major_project//keystroke-dynamics-datagen-master//Keystroke-Dynamics-Using-LSTMs-master//Keystroke-Dynamics-Using-LSTMs-master/shiva_fraud_appended.csv')"
   ]
  },
  {
   "cell_type": "code",
   "execution_count": 162,
   "metadata": {},
   "outputs": [
    {
     "data": {
      "text/plain": [
       "(1000, 32)"
      ]
     },
     "execution_count": 162,
     "metadata": {},
     "output_type": "execute_result"
    }
   ],
   "source": [
    "#genuine\n",
    "df1.shape"
   ]
  },
  {
   "cell_type": "code",
   "execution_count": 163,
   "metadata": {},
   "outputs": [
    {
     "data": {
      "text/plain": [
       "(400, 32)"
      ]
     },
     "execution_count": 163,
     "metadata": {},
     "output_type": "execute_result"
    }
   ],
   "source": [
    "#fraud\n",
    "df2.shape"
   ]
  },
  {
   "cell_type": "code",
   "execution_count": 164,
   "metadata": {},
   "outputs": [],
   "source": [
    "#output for genuine data\n",
    "df1['output']=1"
   ]
  },
  {
   "cell_type": "code",
   "execution_count": 194,
   "metadata": {},
   "outputs": [
    {
     "data": {
      "text/plain": [
       "29"
      ]
     },
     "execution_count": 194,
     "metadata": {},
     "output_type": "execute_result"
    }
   ],
   "source": [
    "#output for fraud\n",
    "df2['output']=0\n",
    "df_train=pd.concat([df1, df2], axis=0)\n",
    "from sklearn.utils import shuffle\n",
    "df = shuffle(df_train)\n",
    "from sklearn.utils import shuffle\n",
    "df = shuffle(df_train)\n",
    "#dropping unwanted columns\n",
    "df=df.drop(['Result','Place','Current_checkin_time','Last_Checkin_time'], axis=1)\n",
    "df.columns.size"
   ]
  },
  {
   "cell_type": "code",
   "execution_count": 166,
   "metadata": {},
   "outputs": [],
   "source": [
    "#Random positive horizontal stacking of Genuine with Genuine \n",
    "data = df.as_matrix()\n",
    "data[data[:, 0] == \"shiva\"]\n",
    "temp_d = data[data[:, 0] == \"shiva\"]\n",
    "n_pos_per_subject=150\n",
    "poss = []\n",
    "first_half = temp_d[np.random.choice(400, n_pos_per_subject), 1:-1]\n",
    "second_half = temp_d[np.random.choice(400, n_pos_per_subject), 1:-1]\n",
    "poss.append(np.hstack([first_half, second_half]))\n",
    "poss=np.vstack(poss)"
   ]
  },
  {
   "cell_type": "code",
   "execution_count": 167,
   "metadata": {},
   "outputs": [
    {
     "data": {
      "text/plain": [
       "(150, 54)"
      ]
     },
     "execution_count": 167,
     "metadata": {},
     "output_type": "execute_result"
    }
   ],
   "source": [
    "poss.shape"
   ]
  },
  {
   "cell_type": "code",
   "execution_count": 168,
   "metadata": {},
   "outputs": [],
   "source": [
    "#Random negative stacking of Genuine with Fraud\n",
    "data = df.as_matrix()\n",
    "temp_d = data[data[:, 0] == \"shiva\"]\n",
    "temp_notd = data[data[:, 0] == \"fshiva\"]\n",
    "n_pos_per_subject=150\n",
    "negs = []\n",
    "first_half = temp_d[np.random.choice(400, n_pos_per_subject), 1:-1]\n",
    "second_half = temp_notd[np.random.choice(400, n_pos_per_subject), 1:-1]\n",
    "negs.append(np.hstack([first_half, second_half]))\n",
    "negs=np.vstack(negs)"
   ]
  },
  {
   "cell_type": "code",
   "execution_count": 169,
   "metadata": {},
   "outputs": [
    {
     "data": {
      "text/plain": [
       "(150, 54)"
      ]
     },
     "execution_count": 169,
     "metadata": {},
     "output_type": "execute_result"
    }
   ],
   "source": [
    "negs.shape"
   ]
  },
  {
   "cell_type": "code",
   "execution_count": 170,
   "metadata": {},
   "outputs": [
    {
     "data": {
      "text/plain": [
       "(300, 1)"
      ]
     },
     "execution_count": 170,
     "metadata": {},
     "output_type": "execute_result"
    }
   ],
   "source": [
    "#labelling for both postive and negative data\n",
    "labels = np.zeros(poss.shape[0] + negs.shape[0])\n",
    "labels[:poss.shape[0]] = 1\n",
    "labels = np.expand_dims(labels, axis=1)\n",
    "labels.shape"
   ]
  },
  {
   "cell_type": "code",
   "execution_count": 171,
   "metadata": {},
   "outputs": [
    {
     "data": {
      "text/plain": [
       "(300, 55)"
      ]
     },
     "execution_count": 171,
     "metadata": {},
     "output_type": "execute_result"
    }
   ],
   "source": [
    "#combining positive nd negative data\n",
    "all_data = np.hstack([np.vstack([poss, negs]), labels])\n",
    "all_data.shape"
   ]
  },
  {
   "cell_type": "code",
   "execution_count": 172,
   "metadata": {},
   "outputs": [],
   "source": [
    "np.random.shuffle(all_data)"
   ]
  },
  {
   "cell_type": "code",
   "execution_count": 173,
   "metadata": {},
   "outputs": [],
   "source": [
    "all_data_t = np.zeros((all_data.shape[0], 9, 6))"
   ]
  },
  {
   "cell_type": "code",
   "execution_count": 196,
   "metadata": {},
   "outputs": [],
   "source": [
    "#Splitting the parameter for LSTM input\n",
    "ctr = 0\n",
    "for i, j in zip(range(0, 27, 3), range(27, 54, 3)):\n",
    "    all_data_t[:, ctr, :] = np.hstack([all_data[:, i:i+3], all_data[:, j:j+3]])\n",
    "    ctr += 1"
   ]
  },
  {
   "cell_type": "code",
   "execution_count": 197,
   "metadata": {},
   "outputs": [
    {
     "data": {
      "text/plain": [
       "(300, 9, 6)"
      ]
     },
     "execution_count": 197,
     "metadata": {},
     "output_type": "execute_result"
    }
   ],
   "source": [
    "all_data_t.shape"
   ]
  },
  {
   "cell_type": "code",
   "execution_count": 198,
   "metadata": {},
   "outputs": [
    {
     "name": "stdout",
     "output_type": "stream",
     "text": [
      "(300, 9, 6)\n",
      "(300,)\n",
      "[1.0 1.0 0.0 1.0 0.0 0.0 1.0 1.0 0.0 0.0]\n"
     ]
    }
   ],
   "source": [
    "X, y = all_data_t, all_data[:, -1]\n",
    "print(X.shape)\n",
    "print(y.shape)\n",
    "print(y[10:20])"
   ]
  },
  {
   "cell_type": "code",
   "execution_count": 199,
   "metadata": {},
   "outputs": [
    {
     "name": "stdout",
     "output_type": "stream",
     "text": [
      "Requirement already satisfied: keras in c:\\users\\user\\anaconda3\\lib\\site-packages (2.3.1)\n",
      "Requirement already satisfied: pyyaml in c:\\users\\user\\anaconda3\\lib\\site-packages (from keras) (3.12)\n",
      "Requirement already satisfied: keras-applications>=1.0.6 in c:\\users\\user\\anaconda3\\lib\\site-packages (from keras) (1.0.7)\n",
      "Requirement already satisfied: numpy>=1.9.1 in c:\\users\\user\\anaconda3\\lib\\site-packages (from keras) (1.14.2)\n",
      "Requirement already satisfied: scipy>=0.14 in c:\\users\\user\\anaconda3\\lib\\site-packages (from keras) (1.0.0)\n",
      "Requirement already satisfied: keras-preprocessing>=1.0.5 in c:\\users\\user\\anaconda3\\lib\\site-packages (from keras) (1.0.9)\n",
      "Requirement already satisfied: h5py in c:\\users\\user\\anaconda3\\lib\\site-packages (from keras) (2.7.1)\n",
      "Requirement already satisfied: six>=1.9.0 in c:\\users\\user\\anaconda3\\lib\\site-packages (from keras) (1.11.0)\n"
     ]
    },
    {
     "name": "stderr",
     "output_type": "stream",
     "text": [
      "WARNING: You are using pip version 19.3.1; however, version 20.1 is available.\n",
      "You should consider upgrading via the 'python -m pip install --upgrade pip' command.\n"
     ]
    }
   ],
   "source": [
    "!pip install keras"
   ]
  },
  {
   "cell_type": "code",
   "execution_count": 200,
   "metadata": {},
   "outputs": [],
   "source": [
    "\n",
    "import keras\n",
    "from keras.layers import Dense, Activation, Dropout, Input, LSTM, Reshape, Lambda, RepeatVector, Concatenate\n",
    "from keras.initializers import glorot_uniform\n",
    "from keras.utils import to_categorical\n",
    "from keras.models import Model\n",
    "from keras.optimizers import Adam"
   ]
  },
  {
   "cell_type": "code",
   "execution_count": 201,
   "metadata": {},
   "outputs": [],
   "source": [
    "\n",
    "VALIDATION_SPLIT = 0.1\n",
    "\n",
    "INPUT_SHAPE = [None, 2]\n",
    "\n",
    "BATCH_SIZE = 32\n",
    "\n",
    "EPOCHS = 20"
   ]
  },
  {
   "cell_type": "code",
   "execution_count": 202,
   "metadata": {},
   "outputs": [],
   "source": [
    "#Spltting the train test data\n",
    "def train_dev_split(x, y, val_split=0.1):\n",
    "    m = x.shape[0]\n",
    "    val_size = int(0.1 * m)\n",
    "    return x[:-val_size], y[:, :-val_size, :], x[-val_size:], y[:, -val_size:, :]"
   ]
  },
  {
   "cell_type": "code",
   "execution_count": 203,
   "metadata": {},
   "outputs": [
    {
     "name": "stdout",
     "output_type": "stream",
     "text": [
      "(300, 2)\n",
      "[1. 0.]\n",
      "(9, 300, 2)\n"
     ]
    }
   ],
   "source": [
    "#converting into catergorical \n",
    "y = to_categorical(y)\n",
    "print(y.shape)\n",
    "print(y[0])\n",
    "y_ = np.zeros((9, y.shape[0], y.shape[1]))\n",
    "for i in range(9):\n",
    "    y_[i, :, :] = y\n",
    "print(y_.shape)"
   ]
  },
  {
   "cell_type": "code",
   "execution_count": 204,
   "metadata": {},
   "outputs": [
    {
     "data": {
      "text/plain": [
       "(array([1., 0.]), array([1., 0.], dtype=float32))"
      ]
     },
     "execution_count": 204,
     "metadata": {},
     "output_type": "execute_result"
    }
   ],
   "source": [
    "y_[0, 0, :], y[0]"
   ]
  },
  {
   "cell_type": "code",
   "execution_count": 205,
   "metadata": {},
   "outputs": [
    {
     "data": {
      "text/plain": [
       "((270, 9, 6), (9, 270, 2), (30, 9, 6), (9, 30, 2))"
      ]
     },
     "execution_count": 205,
     "metadata": {},
     "output_type": "execute_result"
    }
   ],
   "source": [
    "#Splitting the data\n",
    "x_train, y_train, x_test, y_test = train_dev_split(X, y_)\n",
    "x_train.shape, y_train.shape, x_test.shape, y_test.shape"
   ]
  },
  {
   "cell_type": "code",
   "execution_count": 206,
   "metadata": {},
   "outputs": [],
   "source": [
    "n_a = 10\n",
    "n_out = 2"
   ]
  },
  {
   "cell_type": "code",
   "execution_count": 207,
   "metadata": {},
   "outputs": [],
   "source": [
    "#LSTM model\n",
    "reshapor = Reshape((1, 6))\n",
    "LSTM_cell = LSTM(n_a, return_state = True)\n",
    "densor = Dense(n_out, activation='softmax')"
   ]
  },
  {
   "cell_type": "code",
   "execution_count": 208,
   "metadata": {},
   "outputs": [],
   "source": [
    "#LSTM model\n",
    "def keystroke_model(Tx, n_in, n_a, n_out):\n",
    "    X = Input(shape=(Tx, n_in))\n",
    "    \n",
    "    a0 = Input(shape=(n_a,), name='a0')\n",
    "    c0 = Input(shape=(n_a,), name='c0')\n",
    "    a = a0\n",
    "    c = c0\n",
    "    \n",
    "    outputs = []\n",
    "\n",
    "    for t in range(Tx):\n",
    "         \n",
    "        x = Lambda(lambda x: X[:, t, :])(X)\n",
    "        x = reshapor(x)\n",
    "        a, _, c = LSTM_cell(x, initial_state=[a, c])\n",
    "        print(a.shape)\n",
    "        out = densor(a)\n",
    "        #print(out.shape)\n",
    "        outputs.append(out)\n",
    "\n",
    "    model = Model(inputs=[X, a0, c0], outputs=outputs)\n",
    "    \n",
    "    return model"
   ]
  },
  {
   "cell_type": "code",
   "execution_count": 209,
   "metadata": {},
   "outputs": [
    {
     "name": "stdout",
     "output_type": "stream",
     "text": [
      "(?, 10)\n",
      "(?, 10)\n",
      "(?, 10)\n",
      "(?, 10)\n",
      "(?, 10)\n",
      "(?, 10)\n",
      "(?, 10)\n",
      "(?, 10)\n",
      "(?, 10)\n"
     ]
    }
   ],
   "source": [
    "model = keystroke_model(9, 6, n_a, n_out)"
   ]
  },
  {
   "cell_type": "code",
   "execution_count": 188,
   "metadata": {},
   "outputs": [],
   "source": [
    "#Compiling\n",
    "opt = Adam(lr=0.01, beta_1=0.9, beta_2=0.999, decay=0.01)\n",
    "model.compile(optimizer=opt, loss='categorical_crossentropy', metrics=['accuracy'])"
   ]
  },
  {
   "cell_type": "code",
   "execution_count": 189,
   "metadata": {},
   "outputs": [
    {
     "name": "stdout",
     "output_type": "stream",
     "text": [
      "Model: \"model_3\"\n",
      "__________________________________________________________________________________________________\n",
      "Layer (type)                    Output Shape         Param #     Connected to                     \n",
      "==================================================================================================\n",
      "input_7 (InputLayer)            (None, 9, 6)         0                                            \n",
      "__________________________________________________________________________________________________\n",
      "lambda_29 (Lambda)              (None, 6)            0           input_7[0][0]                    \n",
      "__________________________________________________________________________________________________\n",
      "reshape_6 (Reshape)             (None, 1, 6)         0           lambda_29[0][0]                  \n",
      "                                                                 lambda_30[0][0]                  \n",
      "                                                                 lambda_31[0][0]                  \n",
      "                                                                 lambda_32[0][0]                  \n",
      "                                                                 lambda_33[0][0]                  \n",
      "                                                                 lambda_34[0][0]                  \n",
      "                                                                 lambda_35[0][0]                  \n",
      "                                                                 lambda_36[0][0]                  \n",
      "                                                                 lambda_37[0][0]                  \n",
      "__________________________________________________________________________________________________\n",
      "a0 (InputLayer)                 (None, 10)           0                                            \n",
      "__________________________________________________________________________________________________\n",
      "c0 (InputLayer)                 (None, 10)           0                                            \n",
      "__________________________________________________________________________________________________\n",
      "lambda_30 (Lambda)              (None, 6)            0           input_7[0][0]                    \n",
      "__________________________________________________________________________________________________\n",
      "lstm_6 (LSTM)                   [(None, 10), (None,  680         reshape_6[0][0]                  \n",
      "                                                                 a0[0][0]                         \n",
      "                                                                 c0[0][0]                         \n",
      "                                                                 reshape_6[1][0]                  \n",
      "                                                                 lstm_6[0][0]                     \n",
      "                                                                 lstm_6[0][2]                     \n",
      "                                                                 reshape_6[2][0]                  \n",
      "                                                                 lstm_6[1][0]                     \n",
      "                                                                 lstm_6[1][2]                     \n",
      "                                                                 reshape_6[3][0]                  \n",
      "                                                                 lstm_6[2][0]                     \n",
      "                                                                 lstm_6[2][2]                     \n",
      "                                                                 reshape_6[4][0]                  \n",
      "                                                                 lstm_6[3][0]                     \n",
      "                                                                 lstm_6[3][2]                     \n",
      "                                                                 reshape_6[5][0]                  \n",
      "                                                                 lstm_6[4][0]                     \n",
      "                                                                 lstm_6[4][2]                     \n",
      "                                                                 reshape_6[6][0]                  \n",
      "                                                                 lstm_6[5][0]                     \n",
      "                                                                 lstm_6[5][2]                     \n",
      "                                                                 reshape_6[7][0]                  \n",
      "                                                                 lstm_6[6][0]                     \n",
      "                                                                 lstm_6[6][2]                     \n",
      "                                                                 reshape_6[8][0]                  \n",
      "                                                                 lstm_6[7][0]                     \n",
      "                                                                 lstm_6[7][2]                     \n",
      "__________________________________________________________________________________________________\n",
      "lambda_31 (Lambda)              (None, 6)            0           input_7[0][0]                    \n",
      "__________________________________________________________________________________________________\n",
      "lambda_32 (Lambda)              (None, 6)            0           input_7[0][0]                    \n",
      "__________________________________________________________________________________________________\n",
      "lambda_33 (Lambda)              (None, 6)            0           input_7[0][0]                    \n",
      "__________________________________________________________________________________________________\n",
      "lambda_34 (Lambda)              (None, 6)            0           input_7[0][0]                    \n",
      "__________________________________________________________________________________________________\n",
      "lambda_35 (Lambda)              (None, 6)            0           input_7[0][0]                    \n",
      "__________________________________________________________________________________________________\n",
      "lambda_36 (Lambda)              (None, 6)            0           input_7[0][0]                    \n",
      "__________________________________________________________________________________________________\n",
      "lambda_37 (Lambda)              (None, 6)            0           input_7[0][0]                    \n",
      "__________________________________________________________________________________________________\n",
      "dense_6 (Dense)                 (None, 2)            22          lstm_6[0][0]                     \n",
      "                                                                 lstm_6[1][0]                     \n",
      "                                                                 lstm_6[2][0]                     \n",
      "                                                                 lstm_6[3][0]                     \n",
      "                                                                 lstm_6[4][0]                     \n",
      "                                                                 lstm_6[5][0]                     \n",
      "                                                                 lstm_6[6][0]                     \n",
      "                                                                 lstm_6[7][0]                     \n",
      "                                                                 lstm_6[8][0]                     \n",
      "==================================================================================================\n",
      "Total params: 702\n",
      "Trainable params: 702\n",
      "Non-trainable params: 0\n",
      "__________________________________________________________________________________________________\n"
     ]
    }
   ],
   "source": [
    "model.summary()"
   ]
  },
  {
   "cell_type": "code",
   "execution_count": 190,
   "metadata": {},
   "outputs": [],
   "source": [
    "m = x_train.shape[0]\n",
    "a0 = np.zeros((m, n_a))\n",
    "c0 = np.zeros((m, n_a))"
   ]
  },
  {
   "cell_type": "code",
   "execution_count": 191,
   "metadata": {},
   "outputs": [
    {
     "name": "stdout",
     "output_type": "stream",
     "text": [
      "Epoch 1/10\n",
      "270/270 [==============================] - 4s 14ms/step - loss: 6.2740 - dense_6_loss: 0.7395 - dense_6_accuracy: 0.5148 - dense_6_accuracy_1: 0.5222 - dense_6_accuracy_2: 0.5259 - dense_6_accuracy_3: 0.5259 - dense_6_accuracy_4: 0.5296 - dense_6_accuracy_5: 0.5630 - dense_6_accuracy_6: 0.5333 - dense_6_accuracy_7: 0.5667 - dense_6_accuracy_8: 0.5000\n",
      "Epoch 2/10\n",
      "270/270 [==============================] - 0s 262us/step - loss: 5.8298 - dense_6_loss: 0.6242 - dense_6_accuracy: 0.5037 - dense_6_accuracy_1: 0.5222 - dense_6_accuracy_2: 0.5519 - dense_6_accuracy_3: 0.5370 - dense_6_accuracy_4: 0.5481 - dense_6_accuracy_5: 0.7963 - dense_6_accuracy_6: 0.6519 - dense_6_accuracy_7: 0.6519 - dense_6_accuracy_8: 0.6481\n",
      "Epoch 3/10\n",
      "270/270 [==============================] - 0s 273us/step - loss: 5.4673 - dense_6_loss: 0.6152 - dense_6_accuracy: 0.7926 - dense_6_accuracy_1: 0.7963 - dense_6_accuracy_2: 0.8667 - dense_6_accuracy_3: 0.8630 - dense_6_accuracy_4: 0.9259 - dense_6_accuracy_5: 0.9000 - dense_6_accuracy_6: 0.7444 - dense_6_accuracy_7: 0.6741 - dense_6_accuracy_8: 0.7037\n",
      "Epoch 4/10\n",
      "270/270 [==============================] - 0s 225us/step - loss: 4.9371 - dense_6_loss: 0.5519 - dense_6_accuracy: 0.7963 - dense_6_accuracy_1: 0.8074 - dense_6_accuracy_2: 0.8778 - dense_6_accuracy_3: 0.8852 - dense_6_accuracy_4: 0.9407 - dense_6_accuracy_5: 0.8630 - dense_6_accuracy_6: 0.7815 - dense_6_accuracy_7: 0.7370 - dense_6_accuracy_8: 0.7296\n",
      "Epoch 5/10\n",
      "270/270 [==============================] - 0s 240us/step - loss: 4.5796 - dense_6_loss: 0.5865 - dense_6_accuracy: 0.8111 - dense_6_accuracy_1: 0.8296 - dense_6_accuracy_2: 0.8889 - dense_6_accuracy_3: 0.8963 - dense_6_accuracy_4: 0.9333 - dense_6_accuracy_5: 0.8852 - dense_6_accuracy_6: 0.7630 - dense_6_accuracy_7: 0.7370 - dense_6_accuracy_8: 0.6370\n",
      "Epoch 6/10\n",
      "270/270 [==============================] - 0s 222us/step - loss: 3.8912 - dense_6_loss: 0.5015 - dense_6_accuracy: 0.8852 - dense_6_accuracy_1: 0.9000 - dense_6_accuracy_2: 0.9185 - dense_6_accuracy_3: 0.9185 - dense_6_accuracy_4: 0.9370 - dense_6_accuracy_5: 0.9222 - dense_6_accuracy_6: 0.8370 - dense_6_accuracy_7: 0.8593 - dense_6_accuracy_8: 0.7148\n",
      "Epoch 7/10\n",
      "270/270 [==============================] - 0s 214us/step - loss: 3.3822 - dense_6_loss: 0.3627 - dense_6_accuracy: 0.9296 - dense_6_accuracy_1: 0.9222 - dense_6_accuracy_2: 0.9333 - dense_6_accuracy_3: 0.9333 - dense_6_accuracy_4: 0.9407 - dense_6_accuracy_5: 0.9407 - dense_6_accuracy_6: 0.8815 - dense_6_accuracy_7: 0.8926 - dense_6_accuracy_8: 0.8333\n",
      "Epoch 8/10\n",
      "270/270 [==============================] - 0s 207us/step - loss: 3.0911 - dense_6_loss: 0.3031 - dense_6_accuracy: 0.8481 - dense_6_accuracy_1: 0.9074 - dense_6_accuracy_2: 0.9185 - dense_6_accuracy_3: 0.9222 - dense_6_accuracy_4: 0.9444 - dense_6_accuracy_5: 0.9296 - dense_6_accuracy_6: 0.9037 - dense_6_accuracy_7: 0.9185 - dense_6_accuracy_8: 0.8815\n",
      "Epoch 9/10\n",
      "270/270 [==============================] - 0s 222us/step - loss: 2.7863 - dense_6_loss: 0.2432 - dense_6_accuracy: 0.9111 - dense_6_accuracy_1: 0.9296 - dense_6_accuracy_2: 0.9370 - dense_6_accuracy_3: 0.9444 - dense_6_accuracy_4: 0.9444 - dense_6_accuracy_5: 0.9481 - dense_6_accuracy_6: 0.9481 - dense_6_accuracy_7: 0.9370 - dense_6_accuracy_8: 0.9296\n",
      "Epoch 10/10\n",
      "270/270 [==============================] - 0s 203us/step - loss: 2.6757 - dense_6_loss: 0.2144 - dense_6_accuracy: 0.8000 - dense_6_accuracy_1: 0.8963 - dense_6_accuracy_2: 0.9333 - dense_6_accuracy_3: 0.9370 - dense_6_accuracy_4: 0.9444 - dense_6_accuracy_5: 0.9370 - dense_6_accuracy_6: 0.9444 - dense_6_accuracy_7: 0.9370 - dense_6_accuracy_8: 0.9296\n"
     ]
    },
    {
     "data": {
      "text/plain": [
       "<keras.callbacks.callbacks.History at 0x288f617ebe0>"
      ]
     },
     "execution_count": 191,
     "metadata": {},
     "output_type": "execute_result"
    }
   ],
   "source": [
    "#Training\n",
    "model.fit([x_train, a0, c0], list(y_train), epochs=10)"
   ]
  },
  {
   "cell_type": "code",
   "execution_count": 192,
   "metadata": {},
   "outputs": [],
   "source": [
    "m_t = x_test.shape[0]\n",
    "a0_t = np.zeros((m_t, n_a))\n",
    "c0_t = np.zeros((m_t, n_a))"
   ]
  },
  {
   "cell_type": "code",
   "execution_count": 193,
   "metadata": {},
   "outputs": [
    {
     "name": "stdout",
     "output_type": "stream",
     "text": [
      "\r",
      "30/30 [==============================] - 1s 28ms/step\n"
     ]
    },
    {
     "data": {
      "text/plain": [
       "[4.574329376220703,\n",
       " 0.5950793027877808,\n",
       " 0.45621857047080994,\n",
       " 0.3842138648033142,\n",
       " 0.5046903491020203,\n",
       " 0.704274594783783,\n",
       " 0.3703799545764923,\n",
       " 0.45164865255355835,\n",
       " 0.5945038199424744,\n",
       " 0.5133202075958252,\n",
       " 0.8666666746139526,\n",
       " 0.8666666746139526,\n",
       " 0.800000011920929,\n",
       " 0.800000011920929,\n",
       " 0.800000011920929,\n",
       " 0.8666666746139526,\n",
       " 0.8333333134651184,\n",
       " 0.800000011920929,\n",
       " 0.800000011920929]"
      ]
     },
     "execution_count": 193,
     "metadata": {},
     "output_type": "execute_result"
    }
   ],
   "source": [
    "#Testing\n",
    "model.evaluate([x_test, a0_t, c0_t], list(y_test))"
   ]
  },
  {
   "cell_type": "code",
   "execution_count": null,
   "metadata": {},
   "outputs": [],
   "source": []
  }
 ],
 "metadata": {
  "kernelspec": {
   "display_name": "Python 3",
   "language": "python",
   "name": "python3"
  },
  "language_info": {
   "codemirror_mode": {
    "name": "ipython",
    "version": 3
   },
   "file_extension": ".py",
   "mimetype": "text/x-python",
   "name": "python",
   "nbconvert_exporter": "python",
   "pygments_lexer": "ipython3",
   "version": "3.6.4"
  }
 },
 "nbformat": 4,
 "nbformat_minor": 2
}
